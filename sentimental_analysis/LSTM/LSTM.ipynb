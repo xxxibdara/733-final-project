{
  "cells": [
    {
      "cell_type": "code",
      "execution_count": 4,
      "metadata": {
        "colab": {
          "base_uri": "https://localhost:8080/"
        },
        "id": "h7EFUoFInTu8",
        "outputId": "fb31b6e4-9860-4391-e32d-4851fb7420f9"
      },
      "outputs": [
        {
          "name": "stdout",
          "output_type": "stream",
          "text": [
            "Requirement already satisfied: pydot in /opt/anaconda3/lib/python3.7/site-packages (1.4.2)\n",
            "Requirement already satisfied: pyparsing>=2.1.4 in /opt/anaconda3/lib/python3.7/site-packages (from pydot) (3.0.9)\n",
            "zsh:1: command not found: apt-get\n"
          ]
        }
      ],
      "source": [
        "!pip install pydot\n",
        "!apt-get install -y graphviz"
      ]
    },
    {
      "cell_type": "code",
      "execution_count": 1,
      "metadata": {
        "id": "fUASky3jnWjH"
      },
      "outputs": [
        {
          "name": "stderr",
          "output_type": "stream",
          "text": [
            "2023-04-12 22:10:27.295907: I tensorflow/core/platform/cpu_feature_guard.cc:193] This TensorFlow binary is optimized with oneAPI Deep Neural Network Library (oneDNN) to use the following CPU instructions in performance-critical operations:  AVX2 FMA\n",
            "To enable them in other operations, rebuild TensorFlow with the appropriate compiler flags.\n"
          ]
        }
      ],
      "source": [
        "import numpy as np\n",
        "import pandas as pd\n",
        "from sklearn.preprocessing import LabelEncoder\n",
        "from sklearn.model_selection import train_test_split\n",
        "from tensorflow.keras.models import Sequential\n",
        "from tensorflow.keras.layers import Embedding, SpatialDropout1D, Bidirectional, LSTM, GRU, Dense\n",
        "from tensorflow.keras.preprocessing.text import Tokenizer\n",
        "from tensorflow.keras.preprocessing.sequence import pad_sequences\n",
        "from tensorflow.keras.utils import to_categorical\n",
        "from tensorflow.keras.models import load_model\n",
        "import tensorflow as tf\n",
        "from tensorflow.keras.utils import plot_model\n"
      ]
    },
    {
      "cell_type": "code",
      "execution_count": 2,
      "metadata": {},
      "outputs": [
        {
          "name": "stdout",
          "output_type": "stream",
          "text": [
            "2.11.0\n"
          ]
        }
      ],
      "source": []
    },
    {
      "cell_type": "code",
      "execution_count": 2,
      "metadata": {
        "colab": {
          "base_uri": "https://localhost:8080/"
        },
        "id": "ASm2UocEQg7w",
        "outputId": "49a8b99f-f733-408d-a143-7f2f661fff4b"
      },
      "outputs": [
        {
          "name": "stdout",
          "output_type": "stream",
          "text": [
            "Mounted at /content/gdrive\n"
          ]
        }
      ],
      "source": [
        "from google.colab import drive\n",
        "drive.mount('/content/gdrive')\n",
        "path_prefix = \"/content/gdrive/MyDrive/733_final_project/sentiment\"\n",
        "\n",
        "import sys\n",
        "sys.path.insert(1, path_prefix)"
      ]
    },
    {
      "cell_type": "code",
      "execution_count": 3,
      "metadata": {
        "colab": {
          "base_uri": "https://localhost:8080/"
        },
        "id": "R5HOuCwHQn8-",
        "outputId": "4219a818-b34e-4a8c-9b00-977c90def27d"
      },
      "outputs": [
        {
          "name": "stdout",
          "output_type": "stream",
          "text": [
            "BTC_tweets_daily_example.csv\t     Twitter+data+in+sheets.xlsx\n",
            "Cleaned_filtered_BTC_tweets.csv      twitter_kaggle_training.csv\n",
            "Cleaned_Twitter_data_in_sheets.csv   twitter_kaggle_training.gsheet\n",
            "Cleaned_twitter_kaggle_training.csv  twitter_kaggle_validation.csv\n",
            "combined_df.csv\n"
          ]
        }
      ],
      "source": [
        "!ls \"/content/gdrive/My Drive/733-final-project/sentiment\"\n"
      ]
    },
    {
      "cell_type": "code",
      "execution_count": 4,
      "metadata": {
        "id": "9M8TPxSJQq4e"
      },
      "outputs": [],
      "source": [
        "datasets_folder = '/content/gdrive/My Drive/733-final-project/sentiment'"
      ]
    },
    {
      "cell_type": "code",
      "execution_count": 51,
      "metadata": {
        "id": "CFmVomKqQIgu"
      },
      "outputs": [],
      "source": [
        "# Load dataset\n",
        "# df = pd.read_csv(datasets_folder+\"/Cleaned_twitter_kaggle_training.csv\")\n",
        "# df = pd.read_csv(datasets_folder+\"/Cleaned_Twitter_data_in_sheets.csv\")\n",
        "df = pd.read_csv(datasets_folder+\"/combined_df.csv\")\n",
        "\n",
        "df = df.dropna(subset=['sent_score', 'Cleaned_Tweet'])"
      ]
    },
    {
      "cell_type": "code",
      "execution_count": 52,
      "metadata": {
        "colab": {
          "base_uri": "https://localhost:8080/",
          "height": 206
        },
        "id": "tadTfg3UQ1Ez",
        "outputId": "545b72d7-26e5-4ad1-bd84-fb938238c888"
      },
      "outputs": [
        {
          "data": {
            "text/html": [
              "\n",
              "  <div id=\"df-536b7e71-7332-4453-befe-c40352ff1b5e\">\n",
              "    <div class=\"colab-df-container\">\n",
              "      <div>\n",
              "<style scoped>\n",
              "    .dataframe tbody tr th:only-of-type {\n",
              "        vertical-align: middle;\n",
              "    }\n",
              "\n",
              "    .dataframe tbody tr th {\n",
              "        vertical-align: top;\n",
              "    }\n",
              "\n",
              "    .dataframe thead th {\n",
              "        text-align: right;\n",
              "    }\n",
              "</style>\n",
              "<table border=\"1\" class=\"dataframe\">\n",
              "  <thead>\n",
              "    <tr style=\"text-align: right;\">\n",
              "      <th></th>\n",
              "      <th>Cleaned_Tweet</th>\n",
              "      <th>sent_score</th>\n",
              "    </tr>\n",
              "  </thead>\n",
              "  <tbody>\n",
              "    <tr>\n",
              "      <th>0</th>\n",
              "      <td>Paul Krugman, Nobel Luddite. I had to tweak th...</td>\n",
              "      <td>0.0</td>\n",
              "    </tr>\n",
              "    <tr>\n",
              "      <th>1</th>\n",
              "      <td>But  (dum b a ss) said you know nothing about ...</td>\n",
              "      <td>0.0</td>\n",
              "    </tr>\n",
              "    <tr>\n",
              "      <th>2</th>\n",
              "      <td>Another use case for blockchain and Tipper. Th...</td>\n",
              "      <td>1.0</td>\n",
              "    </tr>\n",
              "    <tr>\n",
              "      <th>3</th>\n",
              "      <td>free coins</td>\n",
              "      <td>1.0</td>\n",
              "    </tr>\n",
              "    <tr>\n",
              "      <th>4</th>\n",
              "      <td>WE are happy to announce that PayVX Presale Ph...</td>\n",
              "      <td>1.0</td>\n",
              "    </tr>\n",
              "  </tbody>\n",
              "</table>\n",
              "</div>\n",
              "      <button class=\"colab-df-convert\" onclick=\"convertToInteractive('df-536b7e71-7332-4453-befe-c40352ff1b5e')\"\n",
              "              title=\"Convert this dataframe to an interactive table.\"\n",
              "              style=\"display:none;\">\n",
              "        \n",
              "  <svg xmlns=\"http://www.w3.org/2000/svg\" height=\"24px\"viewBox=\"0 0 24 24\"\n",
              "       width=\"24px\">\n",
              "    <path d=\"M0 0h24v24H0V0z\" fill=\"none\"/>\n",
              "    <path d=\"M18.56 5.44l.94 2.06.94-2.06 2.06-.94-2.06-.94-.94-2.06-.94 2.06-2.06.94zm-11 1L8.5 8.5l.94-2.06 2.06-.94-2.06-.94L8.5 2.5l-.94 2.06-2.06.94zm10 10l.94 2.06.94-2.06 2.06-.94-2.06-.94-.94-2.06-.94 2.06-2.06.94z\"/><path d=\"M17.41 7.96l-1.37-1.37c-.4-.4-.92-.59-1.43-.59-.52 0-1.04.2-1.43.59L10.3 9.45l-7.72 7.72c-.78.78-.78 2.05 0 2.83L4 21.41c.39.39.9.59 1.41.59.51 0 1.02-.2 1.41-.59l7.78-7.78 2.81-2.81c.8-.78.8-2.07 0-2.86zM5.41 20L4 18.59l7.72-7.72 1.47 1.35L5.41 20z\"/>\n",
              "  </svg>\n",
              "      </button>\n",
              "      \n",
              "  <style>\n",
              "    .colab-df-container {\n",
              "      display:flex;\n",
              "      flex-wrap:wrap;\n",
              "      gap: 12px;\n",
              "    }\n",
              "\n",
              "    .colab-df-convert {\n",
              "      background-color: #E8F0FE;\n",
              "      border: none;\n",
              "      border-radius: 50%;\n",
              "      cursor: pointer;\n",
              "      display: none;\n",
              "      fill: #1967D2;\n",
              "      height: 32px;\n",
              "      padding: 0 0 0 0;\n",
              "      width: 32px;\n",
              "    }\n",
              "\n",
              "    .colab-df-convert:hover {\n",
              "      background-color: #E2EBFA;\n",
              "      box-shadow: 0px 1px 2px rgba(60, 64, 67, 0.3), 0px 1px 3px 1px rgba(60, 64, 67, 0.15);\n",
              "      fill: #174EA6;\n",
              "    }\n",
              "\n",
              "    [theme=dark] .colab-df-convert {\n",
              "      background-color: #3B4455;\n",
              "      fill: #D2E3FC;\n",
              "    }\n",
              "\n",
              "    [theme=dark] .colab-df-convert:hover {\n",
              "      background-color: #434B5C;\n",
              "      box-shadow: 0px 1px 3px 1px rgba(0, 0, 0, 0.15);\n",
              "      filter: drop-shadow(0px 1px 2px rgba(0, 0, 0, 0.3));\n",
              "      fill: #FFFFFF;\n",
              "    }\n",
              "  </style>\n",
              "\n",
              "      <script>\n",
              "        const buttonEl =\n",
              "          document.querySelector('#df-536b7e71-7332-4453-befe-c40352ff1b5e button.colab-df-convert');\n",
              "        buttonEl.style.display =\n",
              "          google.colab.kernel.accessAllowed ? 'block' : 'none';\n",
              "\n",
              "        async function convertToInteractive(key) {\n",
              "          const element = document.querySelector('#df-536b7e71-7332-4453-befe-c40352ff1b5e');\n",
              "          const dataTable =\n",
              "            await google.colab.kernel.invokeFunction('convertToInteractive',\n",
              "                                                     [key], {});\n",
              "          if (!dataTable) return;\n",
              "\n",
              "          const docLinkHtml = 'Like what you see? Visit the ' +\n",
              "            '<a target=\"_blank\" href=https://colab.research.google.com/notebooks/data_table.ipynb>data table notebook</a>'\n",
              "            + ' to learn more about interactive tables.';\n",
              "          element.innerHTML = '';\n",
              "          dataTable['output_type'] = 'display_data';\n",
              "          await google.colab.output.renderOutput(dataTable, element);\n",
              "          const docLink = document.createElement('div');\n",
              "          docLink.innerHTML = docLinkHtml;\n",
              "          element.appendChild(docLink);\n",
              "        }\n",
              "      </script>\n",
              "    </div>\n",
              "  </div>\n",
              "  "
            ],
            "text/plain": [
              "                                       Cleaned_Tweet  sent_score\n",
              "0  Paul Krugman, Nobel Luddite. I had to tweak th...         0.0\n",
              "1  But  (dum b a ss) said you know nothing about ...         0.0\n",
              "2  Another use case for blockchain and Tipper. Th...         1.0\n",
              "3                                         free coins         1.0\n",
              "4  WE are happy to announce that PayVX Presale Ph...         1.0"
            ]
          },
          "execution_count": 52,
          "metadata": {},
          "output_type": "execute_result"
        }
      ],
      "source": [
        "df.head()"
      ]
    },
    {
      "cell_type": "code",
      "execution_count": 53,
      "metadata": {
        "colab": {
          "base_uri": "https://localhost:8080/"
        },
        "id": "5YSfD_ICRflo",
        "outputId": "8d5c62dd-fee8-4853-bb62-ced53c2d997a"
      },
      "outputs": [
        {
          "data": {
            "text/plain": [
              "dtype('O')"
            ]
          },
          "execution_count": 53,
          "metadata": {},
          "output_type": "execute_result"
        }
      ],
      "source": [
        "df['Cleaned_Tweet'].dtypes"
      ]
    },
    {
      "cell_type": "code",
      "execution_count": 54,
      "metadata": {
        "colab": {
          "base_uri": "https://localhost:8080/"
        },
        "id": "eULX64sOSBTu",
        "outputId": "67f3176d-8854-45d4-8992-057bc898f234"
      },
      "outputs": [
        {
          "name": "stdout",
          "output_type": "stream",
          "text": [
            " 0.0    107371\n",
            " 1.0     70570\n",
            "-1.0     33833\n",
            "Name: sent_score, dtype: int64\n"
          ]
        }
      ],
      "source": [
        "unique_values = df['sent_score'].value_counts()\n",
        "print(unique_values)"
      ]
    },
    {
      "cell_type": "code",
      "execution_count": 55,
      "metadata": {
        "id": "m165cnJwRry3"
      },
      "outputs": [],
      "source": [
        "df['Cleaned_Tweet'] = df['Cleaned_Tweet'].astype(str)"
      ]
    },
    {
      "cell_type": "code",
      "execution_count": 56,
      "metadata": {
        "colab": {
          "base_uri": "https://localhost:8080/"
        },
        "id": "RZqIJ-niQF7I",
        "outputId": "3e18afb7-6106-4220-bb5e-d30ecb0f772a"
      },
      "outputs": [
        {
          "name": "stdout",
          "output_type": "stream",
          "text": [
            "Epoch 1/10\n",
            "5295/5295 [==============================] - 174s 32ms/step - loss: 0.4585 - accuracy: 0.8179 - val_loss: 0.3561 - val_accuracy: 0.8643\n",
            "Epoch 2/10\n",
            "5295/5295 [==============================] - 147s 28ms/step - loss: 0.2843 - accuracy: 0.8940 - val_loss: 0.2913 - val_accuracy: 0.8931\n",
            "Epoch 3/10\n",
            "5295/5295 [==============================] - 146s 28ms/step - loss: 0.2059 - accuracy: 0.9249 - val_loss: 0.2751 - val_accuracy: 0.9063\n",
            "Epoch 4/10\n",
            "5295/5295 [==============================] - 146s 28ms/step - loss: 0.1521 - accuracy: 0.9447 - val_loss: 0.2579 - val_accuracy: 0.9133\n",
            "Epoch 5/10\n",
            "5295/5295 [==============================] - 146s 28ms/step - loss: 0.1174 - accuracy: 0.9575 - val_loss: 0.2568 - val_accuracy: 0.9185\n",
            "Epoch 6/10\n",
            "5295/5295 [==============================] - 146s 28ms/step - loss: 0.0915 - accuracy: 0.9661 - val_loss: 0.2792 - val_accuracy: 0.9210\n",
            "Epoch 7/10\n",
            "5295/5295 [==============================] - 146s 28ms/step - loss: 0.0720 - accuracy: 0.9729 - val_loss: 0.3034 - val_accuracy: 0.9208\n",
            "Epoch 8/10\n",
            "5295/5295 [==============================] - 146s 28ms/step - loss: 0.0641 - accuracy: 0.9757 - val_loss: 0.3091 - val_accuracy: 0.9211\n",
            "Epoch 9/10\n",
            "5295/5295 [==============================] - 146s 28ms/step - loss: 0.0589 - accuracy: 0.9778 - val_loss: 0.3248 - val_accuracy: 0.9224\n",
            "Epoch 10/10\n",
            "5295/5295 [==============================] - 146s 28ms/step - loss: 0.0715 - accuracy: 0.9729 - val_loss: 0.3005 - val_accuracy: 0.9244\n"
          ]
        },
        {
          "data": {
            "text/plain": [
              "<keras.callbacks.History at 0x7f5142100fa0>"
            ]
          },
          "execution_count": 56,
          "metadata": {},
          "output_type": "execute_result"
        }
      ],
      "source": [
        "\n",
        "X = df['Cleaned_Tweet'].values\n",
        "y = df['sent_score'].values\n",
        "\n",
        "# Encoding the labels\n",
        "encoder = LabelEncoder()\n",
        "y = encoder.fit_transform(y)\n",
        "y = to_categorical(y, num_classes=3)\n",
        "\n",
        "# Splitting the dataset into training and testing sets\n",
        "X_train, X_test, y_train, y_test = train_test_split(X, y, test_size=0.2, random_state=42)\n",
        "\n",
        "# Tokenization\n",
        "max_words = 10000\n",
        "tokenizer = Tokenizer(num_words=max_words, lower=True, split=' ')\n",
        "tokenizer.fit_on_texts(X_train)\n",
        "\n",
        "# Convert the text to sequences\n",
        "X_train = tokenizer.texts_to_sequences(X_train)\n",
        "X_test = tokenizer.texts_to_sequences(X_test)\n",
        "\n",
        "# Padding the sequences\n",
        "max_seq_length = 250\n",
        "X_train = pad_sequences(X_train, maxlen=max_seq_length)\n",
        "X_test = pad_sequences(X_test, maxlen=max_seq_length)\n",
        "\n",
        "# Model definition\n",
        "model = Sequential()\n",
        "model.add(Embedding(max_words, 128, input_length=max_seq_length))\n",
        "model.add(SpatialDropout1D(0.2))\n",
        "model.add(Bidirectional(LSTM(128, return_sequences=True)))\n",
        "model.add(GRU(128))\n",
        "model.add(Dense(3, activation='softmax'))\n",
        "\n",
        "# Compile the model\n",
        "model.compile(optimizer='adam', loss='categorical_crossentropy', metrics=['accuracy'])\n",
        "\n",
        "# Train the model\n",
        "model.fit(X_train, y_train, epochs=10, batch_size=32, validation_data=(X_test, y_test))\n"
      ]
    },
    {
      "cell_type": "code",
      "execution_count": null,
      "metadata": {
        "id": "KS75Ys06ndch"
      },
      "outputs": [],
      "source": []
    },
    {
      "cell_type": "code",
      "execution_count": 59,
      "metadata": {
        "id": "B-IQ15x1QH3l"
      },
      "outputs": [],
      "source": [
        "model.save(datasets_folder+'/Bidirectional_LSTM.h5')"
      ]
    },
    {
      "cell_type": "code",
      "execution_count": 63,
      "metadata": {
        "colab": {
          "base_uri": "https://localhost:8080/",
          "height": 644
        },
        "id": "pQLCXoqjlo52",
        "outputId": "39fa0d0d-f81c-4601-9a91-1203eda29957"
      },
      "outputs": [
        {
          "data": {
            "image/png": "[encoded data removed]",
            "text/plain": [
              "<IPython.core.display.Image object>"
            ]
          },
          "execution_count": 63,
          "metadata": {},
          "output_type": "execute_result"
        }
      ],
      "source": [
        "plot_model(model, to_file='model.png', show_shapes=True, show_layer_names=True, dpi=96)\n",
        "\n",
        "# Display the image\n",
        "from IPython.display import Image\n",
        "Image(filename='model.png')"
      ]
    },
    {
      "cell_type": "code",
      "execution_count": 65,
      "metadata": {
        "colab": {
          "base_uri": "https://localhost:8080/"
        },
        "id": "vxpfdMyunfq_",
        "outputId": "fbe54a49-ad58-41e8-eeba-7e898a78bd8b"
      },
      "outputs": [
        {
          "name": "stdout",
          "output_type": "stream",
          "text": [
            "1/1 [==============================] - 1s 949ms/step\n",
            "The sentiment of the input string is: 1.0\n"
          ]
        }
      ],
      "source": [
        "from keras.models import load_model\n",
        "# from keras.preprocessing.sequence import pad_sequences\n",
        "\n",
        "def predict_sentiment(input_string, model_path, tokenizer, max_seq_length=250):\n",
        "    # Load the saved model\n",
        "    model = load_model(model_path)\n",
        "\n",
        "    # Preprocess the input string\n",
        "    input_string = [input_string]  # Convert the string to a list containing the string\n",
        "    tokenized_input = tokenizer.texts_to_sequences(input_string)\n",
        "    padded_input = tf.keras.utils.pad_sequences(tokenized_input, maxlen=max_seq_length)\n",
        "\n",
        "    # Predict the sentiment\n",
        "    prediction = model.predict(padded_input)\n",
        "\n",
        "    # Decode the prediction\n",
        "    sentiment_class = encoder.inverse_transform([np.argmax(prediction)])\n",
        "\n",
        "    return sentiment_class[0]\n",
        "\n",
        "# Example usage:\n",
        "input_string = \"A story which continue today. Received a call from my patient that I took care in Covid ward,HKL last year, makcik came to see me again today to give kuih raya made by her & husband. Kuih Semperit, Tart Nenas & Cornflakes. Ya Allah, makcik, you deserve all love in this world\"\n",
        "model_path = datasets_folder + \"/Bidirectional_LSTM.h5\"\n",
        "sentiment = predict_sentiment(input_string, model_path, tokenizer)\n",
        "print(\"The sentiment of the input string is:\", sentiment)\n"
      ]
    },
    {
      "cell_type": "code",
      "execution_count": null,
      "metadata": {
        "id": "TqSJH6MzszmP"
      },
      "outputs": [],
      "source": []
    }
  ],
  "metadata": {
    "accelerator": "GPU",
    "colab": {
      "provenance": []
    },
    "gpuClass": "premium",
    "kernelspec": {
      "display_name": "Python 3",
      "name": "python3"
    },
    "language_info": {
      "codemirror_mode": {
        "name": "ipython",
        "version": 3
      },
      "file_extension": ".py",
      "mimetype": "text/x-python",
      "name": "python",
      "nbconvert_exporter": "python",
      "pygments_lexer": "ipython3",
      "version": "3.7.10"
    }
  },
  "nbformat": 4,
  "nbformat_minor": 0
}
